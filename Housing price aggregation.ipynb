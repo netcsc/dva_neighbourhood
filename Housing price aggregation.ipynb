{
 "cells": [
  {
   "cell_type": "code",
   "execution_count": 7,
   "metadata": {},
   "outputs": [
    {
     "name": "stdout",
     "output_type": "stream",
     "text": [
      "2.6.0\n"
     ]
    }
   ],
   "source": [
    "import sqlite3\n",
    "from sqlite3 import Error\n",
    " \n",
    " \n",
    "def create_connection(db_file):\n",
    "    \"\"\" create a database connection to a SQLite database \"\"\"\n",
    "    try:\n",
    "        conn = sqlite3.connect(db_file)\n",
    "        print(sqlite3.version)\n",
    "    except Error as e:\n",
    "        print(e)\n",
    "    finally:\n",
    "        conn.close()\n",
    " \n",
    "if __name__ == '__main__':\n",
    "    create_connection(r\"C:\\Users\\jpeng\\OneDrive - Navigant Consulting Inc\\Desktop\\nyc rolling sales\\nyc rolling sales\\NYC_RealEstate_Sales_2003_2018.sqlite\")\n",
    "\n",
    " "
   ]
  },
  {
   "cell_type": "code",
   "execution_count": 59,
   "metadata": {},
   "outputs": [],
   "source": [
    "conn=sqlite3.connect(r'C:\\Users\\jpeng\\OneDrive - Navigant Consulting Inc\\Desktop\\nyc rolling sales\\nyc rolling sales\\NYC_RealEstate_Sales_2003_2018.sqlite')\n",
    "db_list = []\n",
    "mycursor = conn.cursor()\n",
    "for db_name in mycursor.execute(\"SELECT name FROM sqlite_master WHERE type = 'table'\"):\n",
    "    db_list.append(db_name)\n"
   ]
  },
  {
   "cell_type": "code",
   "execution_count": 64,
   "metadata": {},
   "outputs": [],
   "source": [
    "tbl_list=[]\n",
    "agg_list=[]\n",
    "sale_count_list=[]\n",
    "exp_list=[]\n",
    "for i in range(2003,2019):\n",
    "    tbl='yr_'+str(i)\n",
    "    agg='agg_' + str(i)\n",
    "    sc='sale_count'+str(i)\n",
    "    temp='export'+str(i)\n",
    "    tbl_list.append(tbl)\n",
    "    agg_list.append(agg)\n",
    "    sale_count_list.append(sc)\n",
    "    exp_list.append(temp)\n",
    "    "
   ]
  },
  {
   "cell_type": "code",
   "execution_count": 50,
   "metadata": {},
   "outputs": [],
   "source": [
    "for j in range(0,len(tbl_list)):\n",
    "    sql_text='create table ' + agg_list[j]+  ' as select borough as borough_id, name, nbhd, avg(price) as average_sale_price from ' + tbl_list[j] + ' a join borough b on' + ' a.borough=b.id \\\n",
    "where usable==\"Y\" \\\n",
    "group by borough, nbhd \\\n",
    "order by average_sale_price desc'\n",
    "    crsr=mycursor.execute(sql_text)"
   ]
  },
  {
   "cell_type": "code",
   "execution_count": 55,
   "metadata": {},
   "outputs": [],
   "source": [
    "for k in range(0,len(tbl_list)):\n",
    "    sql_text2= 'create table ' + sale_count_list[k]+' as \\\n",
    "select nbhd, borough, count(distinct sale_id) as transaction_volume, count(distinct bbl_id) as property_count from '+tbl_list[k]+\\\n",
    "' where usable==\"Y\" \\\n",
    "group by borough, nbhd \\\n",
    "order by count(distinct sale_id) desc, count(distinct bbl_id) desc'\n",
    "\n",
    "    mycursor.execute(sql_text2)"
   ]
  },
  {
   "cell_type": "code",
   "execution_count": 65,
   "metadata": {},
   "outputs": [],
   "source": [
    "for l in range(0,len(tbl_list)):\n",
    "    sql_text3= 'create table '+ exp_list[l]+' as \\\n",
    "select borough_id, b.nbhd, name, transaction_volume, property_count, average_sale_price \\\n",
    "from '+agg_list[l]+' a \\\n",
    "  join '+ sale_count_list[l]+' b on a.borough_id=b.borough and a.nbhd=b.nbhd \\\n",
    "  order by borough, transaction_volume desc, property_count desc, average_sale_price desc'\n",
    "    mycursor.execute(sql_text3)"
   ]
  },
  {
   "cell_type": "code",
   "execution_count": 80,
   "metadata": {},
   "outputs": [],
   "source": [
    "import csv\n",
    "for ind in exp_list:\n",
    "    csv_address=ind +'.csv'\n",
    "    sql_txt='select * from '+ ind\n",
    "    c=mycursor.execute(sql_txt)\n",
    "    rows=c.fetchall()\n",
    "    csvWriter.writerows(rows)\n",
    "    f = open(csv_address, 'w', newline=\"\")\n",
    "    writer = csv.writer(f)\n",
    "    title=['borough_id', 'nbhd', 'name', 'transaction_volume', 'property_count', 'average_sale_price']  # get first item to get keys\n",
    "    writer.writerow(title)  # keys=title you're looking for\n",
    "# write the rest\n",
    "    writer.writerows(rows)\n",
    "\n",
    "    f.close()\n"
   ]
  }
 ],
 "metadata": {
  "kernelspec": {
   "display_name": "Python 2",
   "language": "python",
   "name": "python2"
  },
  "language_info": {
   "codemirror_mode": {
    "name": "ipython",
    "version": 2
   },
   "file_extension": ".py",
   "mimetype": "text/x-python",
   "name": "python",
   "nbconvert_exporter": "python",
   "pygments_lexer": "ipython2",
   "version": "2.7.15"
  }
 },
 "nbformat": 4,
 "nbformat_minor": 2
}
