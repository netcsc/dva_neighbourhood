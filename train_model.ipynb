{
 "cells": [
  {
   "cell_type": "code",
   "execution_count": 1,
   "metadata": {},
   "outputs": [],
   "source": [
    "import numpy as np\n",
    "import pandas as pd\n",
    "import time\n",
    "\n",
    "from sklearn.model_selection import cross_val_score, GridSearchCV, cross_validate, train_test_split\n",
    "from sklearn.metrics import accuracy_score, classification_report\n",
    "from sklearn.svm import SVC\n",
    "from sklearn.linear_model import LinearRegression\n",
    "from sklearn.ensemble import RandomForestClassifier\n",
    "from sklearn.preprocessing import StandardScaler, normalize"
   ]
  },
  {
   "cell_type": "code",
   "execution_count": 127,
   "metadata": {},
   "outputs": [],
   "source": [
    "data = pd.read_csv('NY_rolling_sales_2018.csv')\n",
    "data.dropna(inplace=True)\n",
    "data = data[data['GROSS SQUARE FEET'] != 0]\n",
    "data = data[data['SALE PRICE'] >= 100000]\n",
    "data = data[data['YEAR BUILT'] != 0]\n",
    "\n",
    "#data = data.reset_index()\n",
    "data=data[data['BUILDING CLASS CATEGORY']=='01 ONE FAMILY DWELLINGS']\n",
    "\n",
    "# Separate out the x_data and y_data.\n",
    "data = data.loc[:, ['GROSS SQUARE FEET','YEAR BUILT','SALE PRICE','NEIGHBORHOOD']]\n",
    "\n",
    "\n",
    "# The random state to use while splitting the data.\n",
    "random_state = 100"
   ]
  },
  {
   "cell_type": "code",
   "execution_count": 128,
   "metadata": {},
   "outputs": [
    {
     "data": {
      "text/plain": [
       "(12539, 4)"
      ]
     },
     "execution_count": 128,
     "metadata": {},
     "output_type": "execute_result"
    }
   ],
   "source": [
    "data.shape\n",
    "#data.to_csv('temp.csv')"
   ]
  },
  {
   "cell_type": "code",
   "execution_count": 129,
   "metadata": {},
   "outputs": [
    {
     "data": {
      "text/plain": [
       "(12539, 3)"
      ]
     },
     "execution_count": 129,
     "metadata": {},
     "output_type": "execute_result"
    }
   ],
   "source": [
    "#data = pd.read_csv('temp.csv')\n",
    "x_data = data.loc[:, ['GROSS SQUARE FEET','YEAR BUILT','SALE PRICE']]\n",
    "y_data = data.loc[:, \"NEIGHBORHOOD\"]\n",
    "x_data.shape"
   ]
  },
  {
   "cell_type": "code",
   "execution_count": 130,
   "metadata": {},
   "outputs": [],
   "source": [
    "# split data train 70 % and test 30 %\n",
    "x_train, x_test, y_train, y_test = train_test_split(x_data, y_data, test_size=0.3, shuffle=True, random_state=random_state)"
   ]
  },
  {
   "cell_type": "code",
   "execution_count": 115,
   "metadata": {},
   "outputs": [],
   "source": [
    "#scaler = StandardScaler()\n",
    "#scaler.fit(x_train)\n",
    "#x_train_scaled = scaler.transform(x_train)\n",
    "#x_test_scaled = scaler.transform(x_test)"
   ]
  },
  {
   "cell_type": "code",
   "execution_count": 131,
   "metadata": {},
   "outputs": [
    {
     "name": "stdout",
     "output_type": "stream",
     "text": [
      "Train Accuracy is: 0.98\n",
      "Test Accuracy is: 0.15\n"
     ]
    }
   ],
   "source": [
    "# Random forest\n",
    "rf = RandomForestClassifier(random_state=random_state)\n",
    "rf.fit(x_train,y_train)\n",
    "\n",
    "train_prediction = rf.predict(x_train)\n",
    "train_acc = accuracy_score(y_train, train_prediction)\n",
    "print('Train Accuracy is: {0:.2f}'.format(train_acc))\n",
    "test_prediction = rf.predict(x_test)\n",
    "test_acc = accuracy_score(y_test, test_prediction)\n",
    "print('Test Accuracy is: {0:.2f}'.format(test_acc))"
   ]
  },
  {
   "cell_type": "code",
   "execution_count": null,
   "metadata": {},
   "outputs": [],
   "source": []
  },
  {
   "cell_type": "code",
   "execution_count": null,
   "metadata": {},
   "outputs": [],
   "source": []
  }
 ],
 "metadata": {
  "kernelspec": {
   "display_name": "Python 2",
   "language": "python",
   "name": "python2"
  },
  "language_info": {
   "codemirror_mode": {
    "name": "ipython",
    "version": 2
   },
   "file_extension": ".py",
   "mimetype": "text/x-python",
   "name": "python",
   "nbconvert_exporter": "python",
   "pygments_lexer": "ipython2",
   "version": "2.7.15"
  }
 },
 "nbformat": 4,
 "nbformat_minor": 2
}
