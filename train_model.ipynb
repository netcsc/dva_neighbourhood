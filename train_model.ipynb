{
 "cells": [
  {
   "cell_type": "code",
   "execution_count": 3,
   "metadata": {},
   "outputs": [],
   "source": [
    "import numpy as np\n",
    "import pandas as pd\n",
    "import time\n",
    "\n",
    "from sklearn.model_selection import cross_val_score, GridSearchCV, cross_validate, train_test_split\n",
    "from sklearn.metrics import accuracy_score, classification_report\n",
    "from sklearn.svm import SVC\n",
    "from sklearn.linear_model import LinearRegression\n",
    "from sklearn.ensemble import RandomForestClassifier\n",
    "from sklearn.preprocessing import StandardScaler, normalize"
   ]
  },
  {
   "cell_type": "code",
   "execution_count": 77,
   "metadata": {},
   "outputs": [],
   "source": [
    "data = pd.read_csv('NY_rolling_sales_2018.csv')\n",
    "data.dropna(inplace=True)\n",
    "data = data[data['GROSS SQUARE FEET'] != 0]\n",
    "data = data[data['SALE PRICE'] >= 100000]\n",
    "data = data[data['YEAR BUILT'] != 0]\n",
    "\n",
    "#data = data.reset_index()\n",
    "data=data[data['BUILDING CLASS CATEGORY']=='01 ONE FAMILY DWELLINGS']\n",
    "\n",
    "# Separate out the x_data and y_data.\n",
    "data = data.loc[:, ['GROSS SQUARE FEET','YEAR BUILT','SALE PRICE','NEIGHBORHOOD']]\n",
    "\n",
    "\n",
    "# The random state to use while splitting the data.\n",
    "random_state = 100"
   ]
  },
  {
   "cell_type": "code",
   "execution_count": 243,
   "metadata": {},
   "outputs": [],
   "source": [
    "crime_data = pd.read_csv('NY_neighborhoods_crime_index.csv')#'crime_index_per_neighborhood_data/crime_2017.csv'"
   ]
  },
  {
   "cell_type": "code",
   "execution_count": 244,
   "metadata": {},
   "outputs": [],
   "source": [
    "crime_data.columns=['NEIGHBORHOOD', 'Crime_Index'] #[u'Neighborhood_ID', u'NEIGHBORHOOD', u'Crime_Rate', u'Year']"
   ]
  },
  {
   "cell_type": "code",
   "execution_count": 245,
   "metadata": {},
   "outputs": [],
   "source": [
    "crime_data['NEIGHBORHOOD']=map(lambda x: x.upper(), crime_data['NEIGHBORHOOD'])"
   ]
  },
  {
   "cell_type": "code",
   "execution_count": 246,
   "metadata": {},
   "outputs": [
    {
     "data": {
      "text/html": [
       "<div>\n",
       "<style scoped>\n",
       "    .dataframe tbody tr th:only-of-type {\n",
       "        vertical-align: middle;\n",
       "    }\n",
       "\n",
       "    .dataframe tbody tr th {\n",
       "        vertical-align: top;\n",
       "    }\n",
       "\n",
       "    .dataframe thead th {\n",
       "        text-align: right;\n",
       "    }\n",
       "</style>\n",
       "<table border=\"1\" class=\"dataframe\">\n",
       "  <thead>\n",
       "    <tr style=\"text-align: right;\">\n",
       "      <th></th>\n",
       "      <th>NEIGHBORHOOD</th>\n",
       "      <th>Crime_Index</th>\n",
       "    </tr>\n",
       "  </thead>\n",
       "  <tbody>\n",
       "    <tr>\n",
       "      <th>0</th>\n",
       "      <td>ALLERTON</td>\n",
       "      <td>NaN</td>\n",
       "    </tr>\n",
       "    <tr>\n",
       "      <th>1</th>\n",
       "      <td>ALLEY POND PARK</td>\n",
       "      <td>NaN</td>\n",
       "    </tr>\n",
       "    <tr>\n",
       "      <th>2</th>\n",
       "      <td>ARDEN HEIGHTS</td>\n",
       "      <td>3.488</td>\n",
       "    </tr>\n",
       "    <tr>\n",
       "      <th>3</th>\n",
       "      <td>ARLINGTON</td>\n",
       "      <td>NaN</td>\n",
       "    </tr>\n",
       "    <tr>\n",
       "      <th>4</th>\n",
       "      <td>ARROCHAR</td>\n",
       "      <td>3.971</td>\n",
       "    </tr>\n",
       "  </tbody>\n",
       "</table>\n",
       "</div>"
      ],
      "text/plain": [
       "      NEIGHBORHOOD  Crime_Index\n",
       "0         ALLERTON          NaN\n",
       "1  ALLEY POND PARK          NaN\n",
       "2    ARDEN HEIGHTS        3.488\n",
       "3        ARLINGTON          NaN\n",
       "4         ARROCHAR        3.971"
      ]
     },
     "execution_count": 246,
     "metadata": {},
     "output_type": "execute_result"
    }
   ],
   "source": [
    "crime_data.head()"
   ]
  },
  {
   "cell_type": "code",
   "execution_count": 247,
   "metadata": {},
   "outputs": [],
   "source": [
    "df = pd.merge(data, crime_data, on='NEIGHBORHOOD', how='left')"
   ]
  },
  {
   "cell_type": "code",
   "execution_count": 253,
   "metadata": {},
   "outputs": [
    {
     "data": {
      "text/plain": [
       "(8567, 5)"
      ]
     },
     "execution_count": 253,
     "metadata": {},
     "output_type": "execute_result"
    }
   ],
   "source": [
    "df.dropna(inplace=True)\n",
    "df.shape"
   ]
  },
  {
   "cell_type": "code",
   "execution_count": 258,
   "metadata": {},
   "outputs": [],
   "source": [
    "df.to_csv('temp.csv')"
   ]
  },
  {
   "cell_type": "code",
   "execution_count": 271,
   "metadata": {},
   "outputs": [
    {
     "data": {
      "text/plain": [
       "(8567, 4)"
      ]
     },
     "execution_count": 271,
     "metadata": {},
     "output_type": "execute_result"
    }
   ],
   "source": [
    "df['UNIT PRICE'] = df['SALE PRICE']/x_data['GROSS SQUARE FEET']\n",
    "x_data = df.loc[:, ['GROSS SQUARE FEET','YEAR BUILT','UNIT PRICE','Crime_Index']]\n",
    "y_data = df.loc[:, \"NEIGHBORHOOD\"]\n",
    "x_data.shape"
   ]
  },
  {
   "cell_type": "code",
   "execution_count": 272,
   "metadata": {},
   "outputs": [],
   "source": [
    "# split data train 70 % and test 30 %\n",
    "x_train, x_test, y_train, y_test = train_test_split(x_data, y_data, test_size=0.3, shuffle=True, random_state=random_state)"
   ]
  },
  {
   "cell_type": "code",
   "execution_count": 261,
   "metadata": {},
   "outputs": [],
   "source": [
    "#scaler = StandardScaler()\n",
    "#scaler.fit(x_train)\n",
    "#x_train_scaled = scaler.transform(x_train)\n",
    "#x_test_scaled = scaler.transform(x_test)"
   ]
  },
  {
   "cell_type": "code",
   "execution_count": 273,
   "metadata": {},
   "outputs": [
    {
     "name": "stdout",
     "output_type": "stream",
     "text": [
      "Train Accuracy is: 1.00\n",
      "Test Accuracy is: 0.90\n"
     ]
    }
   ],
   "source": [
    "# Random forest\n",
    "rf = RandomForestClassifier(random_state=random_state)\n",
    "rf.fit(x_train,y_train)\n",
    "\n",
    "train_prediction = rf.predict(x_train)\n",
    "train_acc = accuracy_score(y_train, train_prediction)\n",
    "print('Train Accuracy is: {0:.2f}'.format(train_acc))\n",
    "test_prediction = rf.predict(x_test)\n",
    "test_acc = accuracy_score(y_test, test_prediction)\n",
    "print('Test Accuracy is: {0:.2f}'.format(test_acc))"
   ]
  },
  {
   "cell_type": "code",
   "execution_count": 274,
   "metadata": {},
   "outputs": [],
   "source": [
    "res=rf.predict_proba(x_test)"
   ]
  },
  {
   "cell_type": "code",
   "execution_count": 275,
   "metadata": {},
   "outputs": [],
   "source": [
    "recommendation=np.empty([res.shape[0],3],dtype=\"S30\")\n",
    "for i in range(res.shape[0]):\n",
    "    top=np.argsort(res[i,])[::-1][:3]\n",
    "    #recommendation=np.append(recommendation,[rf.classes_[top]],axis=0)\n",
    "    recommendation[i,:]=rf.classes_[top]"
   ]
  },
  {
   "cell_type": "code",
   "execution_count": 276,
   "metadata": {},
   "outputs": [
    {
     "data": {
      "text/plain": [
       "(2571, 3)"
      ]
     },
     "execution_count": 276,
     "metadata": {},
     "output_type": "execute_result"
    }
   ],
   "source": [
    "recommendation.shape"
   ]
  },
  {
   "cell_type": "code",
   "execution_count": 277,
   "metadata": {},
   "outputs": [
    {
     "data": {
      "text/plain": [
       "3600               BAYSIDE\n",
       "4280          FAR ROCKAWAY\n",
       "10896         NEW BRIGHTON\n",
       "1113        WILLIAMSBRIDGE\n",
       "9528     CASTLETON CORNERS\n",
       "5423                HOLLIS\n",
       "2681           MARINE PARK\n",
       "5737       JACKSON HEIGHTS\n",
       "10760        MIDLAND BEACH\n",
       "1657              CANARSIE\n",
       "Name: NEIGHBORHOOD, dtype: object"
      ]
     },
     "execution_count": 277,
     "metadata": {},
     "output_type": "execute_result"
    }
   ],
   "source": [
    "y_test[:10]"
   ]
  },
  {
   "cell_type": "code",
   "execution_count": 278,
   "metadata": {},
   "outputs": [],
   "source": [
    "eval=np.empty([res.shape[0],],dtype=\"bool\")"
   ]
  },
  {
   "cell_type": "code",
   "execution_count": 279,
   "metadata": {},
   "outputs": [],
   "source": [
    "for i in range(res.shape[0]):\n",
    "    eval[i]=False\n",
    "    if np.array(y_test)[i] in recommendation[i]:\n",
    "        eval[i]=True"
   ]
  },
  {
   "cell_type": "code",
   "execution_count": 280,
   "metadata": {},
   "outputs": [
    {
     "data": {
      "text/plain": [
       "0.9618825359782186"
      ]
     },
     "execution_count": 280,
     "metadata": {},
     "output_type": "execute_result"
    }
   ],
   "source": [
    "1.0*eval.sum()/res.shape[0]"
   ]
  },
  {
   "cell_type": "code",
   "execution_count": null,
   "metadata": {},
   "outputs": [],
   "source": []
  }
 ],
 "metadata": {
  "kernelspec": {
   "display_name": "Python 2",
   "language": "python",
   "name": "python2"
  },
  "language_info": {
   "codemirror_mode": {
    "name": "ipython",
    "version": 2
   },
   "file_extension": ".py",
   "mimetype": "text/x-python",
   "name": "python",
   "nbconvert_exporter": "python",
   "pygments_lexer": "ipython2",
   "version": "2.7.15"
  }
 },
 "nbformat": 4,
 "nbformat_minor": 2
}
