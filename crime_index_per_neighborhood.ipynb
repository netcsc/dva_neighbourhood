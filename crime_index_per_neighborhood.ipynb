{
 "cells": [
  {
   "cell_type": "code",
   "execution_count": 7,
   "metadata": {},
   "outputs": [
    {
     "data": {
      "text/html": [
       "<div>\n",
       "<style scoped>\n",
       "    .dataframe tbody tr th:only-of-type {\n",
       "        vertical-align: middle;\n",
       "    }\n",
       "\n",
       "    .dataframe tbody tr th {\n",
       "        vertical-align: top;\n",
       "    }\n",
       "\n",
       "    .dataframe thead th {\n",
       "        text-align: right;\n",
       "    }\n",
       "</style>\n",
       "<table border=\"1\" class=\"dataframe\">\n",
       "  <thead>\n",
       "    <tr style=\"text-align: right;\">\n",
       "      <th></th>\n",
       "      <th>CMPLNT_NUM</th>\n",
       "      <th>Neighborhood</th>\n",
       "      <th>Neighborhood_ID</th>\n",
       "      <th>Year</th>\n",
       "      <th>Crime_Rate</th>\n",
       "    </tr>\n",
       "  </thead>\n",
       "  <tbody>\n",
       "    <tr>\n",
       "      <th>0</th>\n",
       "      <td>731272886</td>\n",
       "      <td>Jamaica Center</td>\n",
       "      <td>163</td>\n",
       "      <td>2007</td>\n",
       "      <td>3.0</td>\n",
       "    </tr>\n",
       "    <tr>\n",
       "      <th>1</th>\n",
       "      <td>685977800</td>\n",
       "      <td>Clifton</td>\n",
       "      <td>256</td>\n",
       "      <td>2007</td>\n",
       "      <td>3.0</td>\n",
       "    </tr>\n",
       "    <tr>\n",
       "      <th>2</th>\n",
       "      <td>625034200</td>\n",
       "      <td>Soundview</td>\n",
       "      <td>27</td>\n",
       "      <td>2007</td>\n",
       "      <td>3.0</td>\n",
       "    </tr>\n",
       "    <tr>\n",
       "      <th>3</th>\n",
       "      <td>763554966</td>\n",
       "      <td>Concourse Village</td>\n",
       "      <td>271</td>\n",
       "      <td>2007</td>\n",
       "      <td>3.0</td>\n",
       "    </tr>\n",
       "    <tr>\n",
       "      <th>4</th>\n",
       "      <td>312160595</td>\n",
       "      <td>Lenox Hill</td>\n",
       "      <td>112</td>\n",
       "      <td>2007</td>\n",
       "      <td>3.0</td>\n",
       "    </tr>\n",
       "  </tbody>\n",
       "</table>\n",
       "</div>"
      ],
      "text/plain": [
       "   CMPLNT_NUM       Neighborhood  Neighborhood_ID  Year  Crime_Rate\n",
       "0   731272886     Jamaica Center              163  2007         3.0\n",
       "1   685977800            Clifton              256  2007         3.0\n",
       "2   625034200          Soundview               27  2007         3.0\n",
       "3   763554966  Concourse Village              271  2007         3.0\n",
       "4   312160595         Lenox Hill              112  2007         3.0"
      ]
     },
     "execution_count": 7,
     "metadata": {},
     "output_type": "execute_result"
    }
   ],
   "source": [
    "import pandas as pd\n",
    "import numpy as np\n",
    "df = pd.read_csv('./export_crime_final.csv')\n",
    "df.head()"
   ]
  },
  {
   "cell_type": "code",
   "execution_count": 8,
   "metadata": {},
   "outputs": [
    {
     "data": {
      "text/plain": [
       "(6018177, 5)"
      ]
     },
     "execution_count": 8,
     "metadata": {},
     "output_type": "execute_result"
    }
   ],
   "source": [
    "df.shape"
   ]
  },
  {
   "cell_type": "code",
   "execution_count": 9,
   "metadata": {},
   "outputs": [],
   "source": [
    "result = {}\n",
    "for index, row in df.iterrows():\n",
    "    year = row['Year']\n",
    "    neighborhood_id = row['Neighborhood_ID']\n",
    "    neighborhood = row['Neighborhood']\n",
    "    crime_rate = row['Crime_Rate']\n",
    "    if year in result:\n",
    "        if neighborhood_id in result[year]:\n",
    "            result[year][neighborhood_id][1] += crime_rate\n",
    "        else:\n",
    "            result[year][neighborhood_id] = [neighborhood, crime_rate]\n",
    "    else:\n",
    "        neighborhood_dict = {neighborhood_id: [neighborhood, crime_rate]}\n",
    "        result[year] = neighborhood_dict"
   ]
  },
  {
   "cell_type": "code",
   "execution_count": 14,
   "metadata": {},
   "outputs": [],
   "source": [
    "final_result = []\n",
    "for key, value in result.items():\n",
    "    data = {'Neighborhood_ID':[], 'Neighborhood':[], 'Crime_Rate': [] }\n",
    "    for neighborhood_id, detail in value.items():\n",
    "        data['Neighborhood_ID'].append(neighborhood_id)\n",
    "        data['Neighborhood'].append(detail[0])\n",
    "        data['Crime_Rate'].append(detail[1])\n",
    "    df = pd.DataFrame(data)\n",
    "    path = \"./crime_\" + str(key) + \".csv\"\n",
    "    export_csv = df.to_csv(path, index = None, header=True)\n",
    "    final_result.append(data)"
   ]
  },
  {
   "cell_type": "code",
   "execution_count": null,
   "metadata": {},
   "outputs": [],
   "source": []
  }
 ],
 "metadata": {
  "kernelspec": {
   "display_name": "Python 3",
   "language": "python",
   "name": "python3"
  },
  "language_info": {
   "codemirror_mode": {
    "name": "ipython",
    "version": 3
   },
   "file_extension": ".py",
   "mimetype": "text/x-python",
   "name": "python",
   "nbconvert_exporter": "python",
   "pygments_lexer": "ipython3",
   "version": "3.7.2"
  }
 },
 "nbformat": 4,
 "nbformat_minor": 2
}
